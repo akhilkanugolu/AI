{
  "nbformat": 4,
  "nbformat_minor": 0,
  "metadata": {
    "colab": {
      "provenance": [],
      "authorship_tag": "ABX9TyMAIXhls9YdxMlqp44jUwZV"
    },
    "kernelspec": {
      "name": "python3",
      "display_name": "Python 3"
    },
    "language_info": {
      "name": "python"
    }
  },
  "cells": [
    {
      "cell_type": "markdown",
      "source": [
        "Install Packages"
      ],
      "metadata": {
        "id": "2er0EUDANLm8"
      }
    },
    {
      "cell_type": "code",
      "execution_count": 37,
      "metadata": {
        "id": "yr1rt71ANKPj"
      },
      "outputs": [],
      "source": [
        "!pip install  -qqq llama_index --progress-bar off\n",
        "!pip install  -qqq  langchain --progress-bar off\n",
        "!pip install  -qqq  pypdf --progress-bar off"
      ]
    },
    {
      "cell_type": "code",
      "source": [
        "from llama_index import SimpleDirectoryReader, GPTVectorStoreIndex,LLMPredictor, PromptHelper, StorageContext, load_index_from_storage\n",
        "from langchain.chat_models import ChatOpenAI\n",
        "import os\n",
        "import openai"
      ],
      "metadata": {
        "id": "L6_oAw8DNPe6"
      },
      "execution_count": 22,
      "outputs": []
    },
    {
      "cell_type": "code",
      "source": [
        "#Try a or b process for declaring api key based on checking which works on you're ide\n",
        "# os.environ['OPENAI_API_KEY'] = \"\" #a\n",
        "openai.api_key = \"\" #b\n",
        "\n",
        "folder = \"source\"\n",
        "max_input_size = 4096\n",
        "num_outputs = 4096"
      ],
      "metadata": {
        "id": "9HvwYVT4NU6C"
      },
      "execution_count": 29,
      "outputs": []
    },
    {
      "cell_type": "code",
      "source": [
        "#load the index model\n",
        "prompt_helper = PromptHelper(max_input_size, num_outputs, chunk_overlap_ratio= 0.1, chunk_size_limit=1024)\n",
        "llm_predictor = LLMPredictor(\n",
        "llm = ChatOpenAI(temperature = 0.7,\n",
        "                         model_name = \"gpt-3.5-turbo\",\n",
        "                         max_tokens = num_outputs)\n",
        "        )\n",
        "\n",
        "documents = SimpleDirectoryReader(folder).load_data()\n",
        "index = GPTVectorStoreIndex.from_documents(\n",
        "                documents,\n",
        "                llm_predictor = llm_predictor,\n",
        "                prompt_helper = prompt_helper)"
      ],
      "metadata": {
        "id": "dNNMc0pDNe0F"
      },
      "execution_count": 31,
      "outputs": []
    },
    {
      "cell_type": "code",
      "source": [
        "# create a query engine to ask question\n",
        "query_engine = index.as_query_engine()\n",
        "response = query_engine.query(\"What is abstract of telecom?\")\n",
        "print(response)"
      ],
      "metadata": {
        "colab": {
          "base_uri": "https://localhost:8080/"
        },
        "id": "2K6spDNwS4Rd",
        "outputId": "246d85bb-4ff9-4641-d989-3d9930dd9132"
      },
      "execution_count": 33,
      "outputs": [
        {
          "output_type": "stream",
          "name": "stdout",
          "text": [
            "\n",
            "The abstract of the telecom data is that telecommunication companies generate a tremendous amount of data, including call detail data, network data, and customer data. This chapter describes how data mining can be used to uncover useful information buried within these datasets. Several data mining applications are described and together they demonstrate that data mining can be used to identify telecommunication fraud, improve marketing effectiveness, and identify network faults.\n"
          ]
        }
      ]
    },
    {
      "cell_type": "code",
      "source": [
        "#store the index for quering in future\n",
        "index.storage_context.persist(persist_dir=\"storage\") # save in current directory\n",
        "\n",
        "# load the index from vector_store.json\n",
        "storage_context = StorageContext.from_defaults(persist_dir=\"storage\")\n",
        "index_storage = load_index_from_storage(storage_context)"
      ],
      "metadata": {
        "id": "Fs7y-g3KQuxt"
      },
      "execution_count": 39,
      "outputs": []
    },
    {
      "cell_type": "code",
      "source": [
        "# create a query engine to ask question\n",
        "query_engine = index_storage.as_query_engine()\n",
        "response = query_engine.query(\"What is weekday call ratio?\")\n",
        "print(response)"
      ],
      "metadata": {
        "colab": {
          "base_uri": "https://localhost:8080/"
        },
        "id": "t-2C3GADUJfR",
        "outputId": "6fdf9f91-928b-456b-bd71-aafb585b0076"
      },
      "execution_count": 38,
      "outputs": [
        {
          "output_type": "stream",
          "name": "stdout",
          "text": [
            "\n",
            "The weekday call ratio is the ratio of business calls to residential calls during a given hour on a weekday. It is computed as the percentage of weekday business calls during a given hour divided by the percentage of weekday residential calls during the same hour.\n"
          ]
        }
      ]
    }
  ]
}