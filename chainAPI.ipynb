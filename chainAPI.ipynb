{
  "nbformat": 4,
  "nbformat_minor": 0,
  "metadata": {
    "colab": {
      "provenance": [],
      "authorship_tag": "ABX9TyNdak+b6ZcPY2yE/MdUAOl/",
      "include_colab_link": true
    },
    "kernelspec": {
      "name": "python3",
      "display_name": "Python 3"
    },
    "language_info": {
      "name": "python"
    }
  },
  "cells": [
    {
      "cell_type": "markdown",
      "metadata": {
        "id": "view-in-github",
        "colab_type": "text"
      },
      "source": [
        "<a href=\"https://colab.research.google.com/github/akhilkanugolu/AI/blob/master/chainAPI.ipynb\" target=\"_parent\"><img src=\"https://colab.research.google.com/assets/colab-badge.svg\" alt=\"Open In Colab\"/></a>"
      ]
    },
    {
      "cell_type": "code",
      "execution_count": 47,
      "metadata": {
        "id": "FdXg3SVOVXDD"
      },
      "outputs": [],
      "source": [
        "!pip install -qqq langchain==0.0.165 --progress-bar off\n",
        "!pip install -qqq openai==0.27.6 --progress-bar off\n",
        "!pip install -qqq python-docx --progress-bar off"
      ]
    },
    {
      "cell_type": "code",
      "source": [
        "from langchain.chains.api.prompt import API_RESPONSE_PROMPT\n",
        "import os\n",
        "from langchain.llms import OpenAI\n",
        "from langchain.chains.api import podcast_docs\n",
        "from langchain.chains import APIChain"
      ],
      "metadata": {
        "id": "HS6nZazQVc9T"
      },
      "execution_count": 2,
      "outputs": []
    },
    {
      "cell_type": "code",
      "source": [
        "os.environ['OPENAI_API_KEY'] = \"\""
      ],
      "metadata": {
        "id": "MTaDm4mzVvaE"
      },
      "execution_count": 3,
      "outputs": []
    },
    {
      "cell_type": "code",
      "source": [
        "from docx import Document\n",
        "apikey= \"\"\n",
        "# Path to the Word document\n",
        "document_path = 'weatherv2.docx'\n",
        "doc = Document(document_path)\n",
        "api_doc = '\\n'.join([paragraph.text for paragraph in doc.paragraphs])\n",
        "api_doc = api_doc.format(apikey=apikey)\n"
      ],
      "metadata": {
        "colab": {
          "base_uri": "https://localhost:8080/"
        },
        "id": "gudPOPwwbhcV",
        "outputId": "17dca549-e2b4-42e9-a63a-5c3e42d2c775"
      },
      "execution_count": 42,
      "outputs": [
        {
          "output_type": "stream",
          "name": "stdout",
          "text": [
            "API documentation:\n",
            "Endpoint: https://api.openweathermap.org/data/2.5/weather\n",
            "\n",
            "This API is for getting weather details\n",
            "Query parameters table:\n",
            "q | string | City name, state code and country code divided by comma, Please, refer to ISO 3166 for the state codes or country codes. You can specify the parameter not only in English. In this case, the API response should be returned in the same language as the language of requested location name if the location is in our predefined list of more than 200,000 locations.| required\n",
            "appid | string | 9491200adbfe534aaf56fd682bfd9d10 is the unique APIKey needed to be passed as appid query parameter\n",
            "Response schema (JSON object):\n",
            "Skip the schema for now\n"
          ]
        }
      ]
    },
    {
      "cell_type": "code",
      "source": [
        "llm = OpenAI(temperature=0)\n",
        "chain = APIChain.from_llm_and_api_docs(llm, api_doc, verbose=True)\n",
        "chain.run(\"whats tempareture of denver in F degree? Could you also say when is sunrise\")"
      ],
      "metadata": {
        "colab": {
          "base_uri": "https://localhost:8080/",
          "height": 177
        },
        "id": "qE8C15deVnGM",
        "outputId": "772b293e-7408-4042-f3fd-380e41ede2ff"
      },
      "execution_count": 45,
      "outputs": [
        {
          "output_type": "stream",
          "name": "stdout",
          "text": [
            "\n",
            "\n",
            "\u001b[1m> Entering new APIChain chain...\u001b[0m\n",
            "\u001b[32;1m\u001b[1;3m https://api.openweathermap.org/data/2.5/weather?q=denver,us&appid=9491200adbfe534aaf56fd682bfd9d10&units=imperial\u001b[0m\n",
            "\u001b[33;1m\u001b[1;3m{\"coord\":{\"lon\":-104.9847,\"lat\":39.7392},\"weather\":[{\"id\":803,\"main\":\"Clouds\",\"description\":\"broken clouds\",\"icon\":\"04d\"}],\"base\":\"stations\",\"main\":{\"temp\":82.58,\"feels_like\":80.91,\"temp_min\":78.12,\"temp_max\":87.87,\"pressure\":1009,\"humidity\":30},\"visibility\":10000,\"wind\":{\"speed\":10,\"deg\":309},\"clouds\":{\"all\":60},\"dt\":1689007500,\"sys\":{\"type\":2,\"id\":2004334,\"country\":\"US\",\"sunrise\":1688989237,\"sunset\":1689042572},\"timezone\":-21600,\"id\":5419384,\"name\":\"Denver\",\"cod\":200}\u001b[0m\n",
            "\n",
            "\u001b[1m> Finished chain.\u001b[0m\n"
          ]
        },
        {
          "output_type": "execute_result",
          "data": {
            "text/plain": [
              "' The temperature in Denver, US is 82.58°F and the sunrise is at 6:47 AM.'"
            ],
            "application/vnd.google.colaboratory.intrinsic+json": {
              "type": "string"
            }
          },
          "metadata": {},
          "execution_count": 45
        }
      ]
    },
    {
      "cell_type": "code",
      "source": [],
      "metadata": {
        "id": "M6R3-JcfV3IG"
      },
      "execution_count": null,
      "outputs": []
    }
  ]
}